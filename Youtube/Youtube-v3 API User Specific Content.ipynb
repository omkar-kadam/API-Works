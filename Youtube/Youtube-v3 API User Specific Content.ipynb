{
 "cells": [
  {
   "cell_type": "code",
   "execution_count": null,
   "metadata": {},
   "outputs": [],
   "source": [
    "# Importing Youtube API's build method to construct request\n",
    "\n",
    "from apiclient.discovery import build\n",
    "from google_auth_oauthlib.flow import InstalledAppFlow\n",
    "import google_auth_httplib2 # auth lib flow supported library"
   ]
  },
  {
   "cell_type": "code",
   "execution_count": null,
   "metadata": {},
   "outputs": [],
   "source": [
    "# client secret can be obtained by creating an OAuth Client ID from Developer Console -> Credentials\n",
    "client_secret_file = 'client_secret.json'\n",
    "SCOPES = ['https://www.googleapis.com/auth/youtube']\n",
    "\n",
    "### Scope Definition : https://developers.google.com/identity/protocols/googlescopes\n",
    "# Scopes\n",
    "# https://www.googleapis.com/auth/youtube\tManage your YouTube account\n",
    "# https://www.googleapis.com/auth/youtube.force-ssl\tSee, edit, and permanently delete your YouTube videos, ratings, comments and captions\n",
    "# https://www.googleapis.com/auth/youtube.readonly\tView your YouTube account\n",
    "# https://www.googleapis.com/auth/youtube.upload\tManage your YouTube videos\n",
    "# https://www.googleapis.com/auth/youtubepartner\tView and manage your assets and associated content on YouTube\n",
    "# https://www.googleapis.com/auth/youtubepartner-channel-audit\tView private information of your YouTube channel relevant during the audit process with a YouTube partner"
   ]
  },
  {
   "cell_type": "code",
   "execution_count": null,
   "metadata": {},
   "outputs": [],
   "source": [
    "# Establish Auth using OAuth2.0 by passing client_secret_file and Scope(s)\n",
    "\n",
    "creds = InstalledAppFlow.from_client_secrets_file(client_secret_file,SCOPES).run_console()\n",
    "youtube = build('youtube','v3',credentials=creds)\n",
    "\n",
    "response_payload = youtube.search().list(q='YouTube API v3',part='snippet',type='video',maxResults=1).execute()\n",
    "\n",
    "print(response_payload)"
   ]
  }
 ],
 "metadata": {
  "kernelspec": {
   "display_name": "Python 3",
   "language": "python",
   "name": "python3"
  },
  "language_info": {
   "codemirror_mode": {
    "name": "ipython",
    "version": 3
   },
   "file_extension": ".py",
   "mimetype": "text/x-python",
   "name": "python",
   "nbconvert_exporter": "python",
   "pygments_lexer": "ipython3",
   "version": "3.7.3"
  }
 },
 "nbformat": 4,
 "nbformat_minor": 2
}
